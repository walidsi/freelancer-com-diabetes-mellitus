{
 "cells": [
  {
   "cell_type": "code",
   "execution_count": 3,
   "metadata": {},
   "outputs": [],
   "source": [
    "import pandas as pd\n",
    "import visuals as vs\n",
    "import data_preprocessing as dp\n",
    "%config InlineBackend.figure_format='retina'"
   ]
  },
  {
   "cell_type": "code",
   "execution_count": 4,
   "metadata": {},
   "outputs": [
    {
     "data": {
      "text/html": [
       "<div>\n",
       "<style scoped>\n",
       "    .dataframe tbody tr th:only-of-type {\n",
       "        vertical-align: middle;\n",
       "    }\n",
       "\n",
       "    .dataframe tbody tr th {\n",
       "        vertical-align: top;\n",
       "    }\n",
       "\n",
       "    .dataframe thead th {\n",
       "        text-align: right;\n",
       "    }\n",
       "</style>\n",
       "<table border=\"1\" class=\"dataframe\">\n",
       "  <thead>\n",
       "    <tr style=\"text-align: right;\">\n",
       "      <th></th>\n",
       "      <th>encounter_id</th>\n",
       "      <th>hospital_id</th>\n",
       "      <th>gender</th>\n",
       "      <th>ethnicity</th>\n",
       "      <th>age</th>\n",
       "      <th>elective_surgery</th>\n",
       "      <th>height</th>\n",
       "      <th>weight</th>\n",
       "      <th>bmi</th>\n",
       "      <th>readmission_status</th>\n",
       "      <th>...</th>\n",
       "      <th>map_apache</th>\n",
       "      <th>aids</th>\n",
       "      <th>cirrhosis</th>\n",
       "      <th>hepatic_failure</th>\n",
       "      <th>immunosuppression</th>\n",
       "      <th>leukemia</th>\n",
       "      <th>lymphoma</th>\n",
       "      <th>solid_tumor_with_metastasis</th>\n",
       "      <th>ventilated_apache</th>\n",
       "      <th>diabetes_mellitus</th>\n",
       "    </tr>\n",
       "  </thead>\n",
       "  <tbody>\n",
       "    <tr>\n",
       "      <th>0</th>\n",
       "      <td>214826</td>\n",
       "      <td>118</td>\n",
       "      <td>M</td>\n",
       "      <td>Caucasian</td>\n",
       "      <td>68.0</td>\n",
       "      <td>0</td>\n",
       "      <td>180.3</td>\n",
       "      <td>73.9</td>\n",
       "      <td>22.732803</td>\n",
       "      <td>0</td>\n",
       "      <td>...</td>\n",
       "      <td>40.0</td>\n",
       "      <td>0</td>\n",
       "      <td>0</td>\n",
       "      <td>0</td>\n",
       "      <td>0</td>\n",
       "      <td>0</td>\n",
       "      <td>0</td>\n",
       "      <td>0</td>\n",
       "      <td>0</td>\n",
       "      <td>1</td>\n",
       "    </tr>\n",
       "    <tr>\n",
       "      <th>1</th>\n",
       "      <td>276985</td>\n",
       "      <td>118</td>\n",
       "      <td>F</td>\n",
       "      <td>Caucasian</td>\n",
       "      <td>25.0</td>\n",
       "      <td>0</td>\n",
       "      <td>172.7</td>\n",
       "      <td>95.3</td>\n",
       "      <td>31.952749</td>\n",
       "      <td>0</td>\n",
       "      <td>...</td>\n",
       "      <td>68.0</td>\n",
       "      <td>0</td>\n",
       "      <td>0</td>\n",
       "      <td>0</td>\n",
       "      <td>0</td>\n",
       "      <td>0</td>\n",
       "      <td>0</td>\n",
       "      <td>0</td>\n",
       "      <td>0</td>\n",
       "      <td>0</td>\n",
       "    </tr>\n",
       "    <tr>\n",
       "      <th>2</th>\n",
       "      <td>262220</td>\n",
       "      <td>118</td>\n",
       "      <td>F</td>\n",
       "      <td>Caucasian</td>\n",
       "      <td>81.0</td>\n",
       "      <td>1</td>\n",
       "      <td>165.1</td>\n",
       "      <td>61.7</td>\n",
       "      <td>22.635548</td>\n",
       "      <td>0</td>\n",
       "      <td>...</td>\n",
       "      <td>60.0</td>\n",
       "      <td>0</td>\n",
       "      <td>0</td>\n",
       "      <td>0</td>\n",
       "      <td>0</td>\n",
       "      <td>0</td>\n",
       "      <td>0</td>\n",
       "      <td>0</td>\n",
       "      <td>1</td>\n",
       "      <td>0</td>\n",
       "    </tr>\n",
       "    <tr>\n",
       "      <th>3</th>\n",
       "      <td>201746</td>\n",
       "      <td>33</td>\n",
       "      <td>M</td>\n",
       "      <td>Caucasian</td>\n",
       "      <td>19.0</td>\n",
       "      <td>0</td>\n",
       "      <td>188.0</td>\n",
       "      <td>NaN</td>\n",
       "      <td>NaN</td>\n",
       "      <td>0</td>\n",
       "      <td>...</td>\n",
       "      <td>103.0</td>\n",
       "      <td>0</td>\n",
       "      <td>0</td>\n",
       "      <td>0</td>\n",
       "      <td>0</td>\n",
       "      <td>0</td>\n",
       "      <td>0</td>\n",
       "      <td>0</td>\n",
       "      <td>0</td>\n",
       "      <td>0</td>\n",
       "    </tr>\n",
       "    <tr>\n",
       "      <th>4</th>\n",
       "      <td>246060</td>\n",
       "      <td>81</td>\n",
       "      <td>F</td>\n",
       "      <td>Caucasian</td>\n",
       "      <td>77.0</td>\n",
       "      <td>0</td>\n",
       "      <td>160.0</td>\n",
       "      <td>70.2</td>\n",
       "      <td>27.421875</td>\n",
       "      <td>0</td>\n",
       "      <td>...</td>\n",
       "      <td>46.0</td>\n",
       "      <td>0</td>\n",
       "      <td>0</td>\n",
       "      <td>0</td>\n",
       "      <td>0</td>\n",
       "      <td>0</td>\n",
       "      <td>0</td>\n",
       "      <td>0</td>\n",
       "      <td>1</td>\n",
       "      <td>1</td>\n",
       "    </tr>\n",
       "  </tbody>\n",
       "</table>\n",
       "<p>5 rows × 88 columns</p>\n",
       "</div>"
      ],
      "text/plain": [
       "   encounter_id  hospital_id gender  ethnicity   age  elective_surgery  \\\n",
       "0        214826          118      M  Caucasian  68.0                 0   \n",
       "1        276985          118      F  Caucasian  25.0                 0   \n",
       "2        262220          118      F  Caucasian  81.0                 1   \n",
       "3        201746           33      M  Caucasian  19.0                 0   \n",
       "4        246060           81      F  Caucasian  77.0                 0   \n",
       "\n",
       "   height  weight        bmi  readmission_status  ... map_apache  aids  \\\n",
       "0   180.3    73.9  22.732803                   0  ...       40.0     0   \n",
       "1   172.7    95.3  31.952749                   0  ...       68.0     0   \n",
       "2   165.1    61.7  22.635548                   0  ...       60.0     0   \n",
       "3   188.0     NaN        NaN                   0  ...      103.0     0   \n",
       "4   160.0    70.2  27.421875                   0  ...       46.0     0   \n",
       "\n",
       "   cirrhosis  hepatic_failure  immunosuppression  leukemia  lymphoma  \\\n",
       "0          0                0                  0         0         0   \n",
       "1          0                0                  0         0         0   \n",
       "2          0                0                  0         0         0   \n",
       "3          0                0                  0         0         0   \n",
       "4          0                0                  0         0         0   \n",
       "\n",
       "   solid_tumor_with_metastasis  ventilated_apache  diabetes_mellitus  \n",
       "0                            0                  0                  1  \n",
       "1                            0                  0                  0  \n",
       "2                            0                  1                  0  \n",
       "3                            0                  0                  0  \n",
       "4                            0                  1                  1  \n",
       "\n",
       "[5 rows x 88 columns]"
      ]
     },
     "execution_count": 4,
     "metadata": {},
     "output_type": "execute_result"
    }
   ],
   "source": [
    "data = pd.read_csv('DiabetesClassificationDataset2022.csv')\n",
    "data.head()"
   ]
  },
  {
   "cell_type": "code",
   "execution_count": 5,
   "metadata": {},
   "outputs": [
    {
     "data": {
      "text/plain": [
       "(79159, 88)"
      ]
     },
     "execution_count": 5,
     "metadata": {},
     "output_type": "execute_result"
    }
   ],
   "source": [
    "data.shape"
   ]
  },
  {
   "cell_type": "code",
   "execution_count": 6,
   "metadata": {},
   "outputs": [
    {
     "data": {
      "text/html": [
       "<div>\n",
       "<style scoped>\n",
       "    .dataframe tbody tr th:only-of-type {\n",
       "        vertical-align: middle;\n",
       "    }\n",
       "\n",
       "    .dataframe tbody tr th {\n",
       "        vertical-align: top;\n",
       "    }\n",
       "\n",
       "    .dataframe thead th {\n",
       "        text-align: right;\n",
       "    }\n",
       "</style>\n",
       "<table border=\"1\" class=\"dataframe\">\n",
       "  <thead>\n",
       "    <tr style=\"text-align: right;\">\n",
       "      <th></th>\n",
       "      <th>encounter_id</th>\n",
       "      <th>hospital_id</th>\n",
       "      <th>age</th>\n",
       "      <th>elective_surgery</th>\n",
       "      <th>height</th>\n",
       "      <th>weight</th>\n",
       "      <th>bmi</th>\n",
       "      <th>readmission_status</th>\n",
       "      <th>h1_temp_max</th>\n",
       "      <th>h1_temp_min</th>\n",
       "      <th>...</th>\n",
       "      <th>map_apache</th>\n",
       "      <th>aids</th>\n",
       "      <th>cirrhosis</th>\n",
       "      <th>hepatic_failure</th>\n",
       "      <th>immunosuppression</th>\n",
       "      <th>leukemia</th>\n",
       "      <th>lymphoma</th>\n",
       "      <th>solid_tumor_with_metastasis</th>\n",
       "      <th>ventilated_apache</th>\n",
       "      <th>diabetes_mellitus</th>\n",
       "    </tr>\n",
       "  </thead>\n",
       "  <tbody>\n",
       "    <tr>\n",
       "      <th>count</th>\n",
       "      <td>79159.000000</td>\n",
       "      <td>79159.000000</td>\n",
       "      <td>76317.000000</td>\n",
       "      <td>79159.000000</td>\n",
       "      <td>77978.000000</td>\n",
       "      <td>77086.000000</td>\n",
       "      <td>76468.000000</td>\n",
       "      <td>79159.0</td>\n",
       "      <td>61223.000000</td>\n",
       "      <td>61223.000000</td>\n",
       "      <td>...</td>\n",
       "      <td>78931.000000</td>\n",
       "      <td>79159.000000</td>\n",
       "      <td>79159.000000</td>\n",
       "      <td>79159.000000</td>\n",
       "      <td>79159.000000</td>\n",
       "      <td>79159.000000</td>\n",
       "      <td>79159.000000</td>\n",
       "      <td>79159.000000</td>\n",
       "      <td>79159.000000</td>\n",
       "      <td>79159.000000</td>\n",
       "    </tr>\n",
       "    <tr>\n",
       "      <th>mean</th>\n",
       "      <td>212863.726740</td>\n",
       "      <td>106.188620</td>\n",
       "      <td>62.452389</td>\n",
       "      <td>0.189404</td>\n",
       "      <td>169.565316</td>\n",
       "      <td>85.114552</td>\n",
       "      <td>29.600786</td>\n",
       "      <td>0.0</td>\n",
       "      <td>36.721315</td>\n",
       "      <td>36.612966</td>\n",
       "      <td>...</td>\n",
       "      <td>87.278128</td>\n",
       "      <td>0.000834</td>\n",
       "      <td>0.016713</td>\n",
       "      <td>0.013744</td>\n",
       "      <td>0.025379</td>\n",
       "      <td>0.007327</td>\n",
       "      <td>0.004080</td>\n",
       "      <td>0.020781</td>\n",
       "      <td>0.332243</td>\n",
       "      <td>0.355639</td>\n",
       "    </tr>\n",
       "    <tr>\n",
       "      <th>std</th>\n",
       "      <td>38113.816591</td>\n",
       "      <td>63.776527</td>\n",
       "      <td>16.446715</td>\n",
       "      <td>0.391831</td>\n",
       "      <td>10.835017</td>\n",
       "      <td>25.465505</td>\n",
       "      <td>8.487987</td>\n",
       "      <td>0.0</td>\n",
       "      <td>0.771686</td>\n",
       "      <td>0.795767</td>\n",
       "      <td>...</td>\n",
       "      <td>42.058748</td>\n",
       "      <td>0.028863</td>\n",
       "      <td>0.128195</td>\n",
       "      <td>0.116429</td>\n",
       "      <td>0.157275</td>\n",
       "      <td>0.085284</td>\n",
       "      <td>0.063748</td>\n",
       "      <td>0.142651</td>\n",
       "      <td>0.471020</td>\n",
       "      <td>0.478709</td>\n",
       "    </tr>\n",
       "    <tr>\n",
       "      <th>min</th>\n",
       "      <td>147001.000000</td>\n",
       "      <td>1.000000</td>\n",
       "      <td>0.000000</td>\n",
       "      <td>0.000000</td>\n",
       "      <td>137.200000</td>\n",
       "      <td>38.600000</td>\n",
       "      <td>14.844926</td>\n",
       "      <td>0.0</td>\n",
       "      <td>33.400000</td>\n",
       "      <td>32.900000</td>\n",
       "      <td>...</td>\n",
       "      <td>40.000000</td>\n",
       "      <td>0.000000</td>\n",
       "      <td>0.000000</td>\n",
       "      <td>0.000000</td>\n",
       "      <td>0.000000</td>\n",
       "      <td>0.000000</td>\n",
       "      <td>0.000000</td>\n",
       "      <td>0.000000</td>\n",
       "      <td>0.000000</td>\n",
       "      <td>0.000000</td>\n",
       "    </tr>\n",
       "    <tr>\n",
       "      <th>25%</th>\n",
       "      <td>179772.000000</td>\n",
       "      <td>49.000000</td>\n",
       "      <td>53.000000</td>\n",
       "      <td>0.000000</td>\n",
       "      <td>162.500000</td>\n",
       "      <td>67.700000</td>\n",
       "      <td>23.875433</td>\n",
       "      <td>0.0</td>\n",
       "      <td>36.400000</td>\n",
       "      <td>36.300000</td>\n",
       "      <td>...</td>\n",
       "      <td>53.000000</td>\n",
       "      <td>0.000000</td>\n",
       "      <td>0.000000</td>\n",
       "      <td>0.000000</td>\n",
       "      <td>0.000000</td>\n",
       "      <td>0.000000</td>\n",
       "      <td>0.000000</td>\n",
       "      <td>0.000000</td>\n",
       "      <td>0.000000</td>\n",
       "      <td>0.000000</td>\n",
       "    </tr>\n",
       "    <tr>\n",
       "      <th>50%</th>\n",
       "      <td>212864.000000</td>\n",
       "      <td>112.000000</td>\n",
       "      <td>65.000000</td>\n",
       "      <td>0.000000</td>\n",
       "      <td>170.000000</td>\n",
       "      <td>81.600000</td>\n",
       "      <td>28.029903</td>\n",
       "      <td>0.0</td>\n",
       "      <td>36.700000</td>\n",
       "      <td>36.700000</td>\n",
       "      <td>...</td>\n",
       "      <td>66.000000</td>\n",
       "      <td>0.000000</td>\n",
       "      <td>0.000000</td>\n",
       "      <td>0.000000</td>\n",
       "      <td>0.000000</td>\n",
       "      <td>0.000000</td>\n",
       "      <td>0.000000</td>\n",
       "      <td>0.000000</td>\n",
       "      <td>0.000000</td>\n",
       "      <td>0.000000</td>\n",
       "    </tr>\n",
       "    <tr>\n",
       "      <th>75%</th>\n",
       "      <td>245812.000000</td>\n",
       "      <td>165.000000</td>\n",
       "      <td>75.000000</td>\n",
       "      <td>0.000000</td>\n",
       "      <td>177.800000</td>\n",
       "      <td>98.400000</td>\n",
       "      <td>33.420162</td>\n",
       "      <td>0.0</td>\n",
       "      <td>37.100000</td>\n",
       "      <td>37.000000</td>\n",
       "      <td>...</td>\n",
       "      <td>124.000000</td>\n",
       "      <td>0.000000</td>\n",
       "      <td>0.000000</td>\n",
       "      <td>0.000000</td>\n",
       "      <td>0.000000</td>\n",
       "      <td>0.000000</td>\n",
       "      <td>0.000000</td>\n",
       "      <td>0.000000</td>\n",
       "      <td>1.000000</td>\n",
       "      <td>1.000000</td>\n",
       "    </tr>\n",
       "    <tr>\n",
       "      <th>max</th>\n",
       "      <td>278997.000000</td>\n",
       "      <td>204.000000</td>\n",
       "      <td>89.000000</td>\n",
       "      <td>1.000000</td>\n",
       "      <td>195.590000</td>\n",
       "      <td>186.000000</td>\n",
       "      <td>67.814990</td>\n",
       "      <td>0.0</td>\n",
       "      <td>39.500000</td>\n",
       "      <td>39.300000</td>\n",
       "      <td>...</td>\n",
       "      <td>200.000000</td>\n",
       "      <td>1.000000</td>\n",
       "      <td>1.000000</td>\n",
       "      <td>1.000000</td>\n",
       "      <td>1.000000</td>\n",
       "      <td>1.000000</td>\n",
       "      <td>1.000000</td>\n",
       "      <td>1.000000</td>\n",
       "      <td>1.000000</td>\n",
       "      <td>1.000000</td>\n",
       "    </tr>\n",
       "  </tbody>\n",
       "</table>\n",
       "<p>8 rows × 85 columns</p>\n",
       "</div>"
      ],
      "text/plain": [
       "        encounter_id   hospital_id           age  elective_surgery  \\\n",
       "count   79159.000000  79159.000000  76317.000000      79159.000000   \n",
       "mean   212863.726740    106.188620     62.452389          0.189404   \n",
       "std     38113.816591     63.776527     16.446715          0.391831   \n",
       "min    147001.000000      1.000000      0.000000          0.000000   \n",
       "25%    179772.000000     49.000000     53.000000          0.000000   \n",
       "50%    212864.000000    112.000000     65.000000          0.000000   \n",
       "75%    245812.000000    165.000000     75.000000          0.000000   \n",
       "max    278997.000000    204.000000     89.000000          1.000000   \n",
       "\n",
       "             height        weight           bmi  readmission_status  \\\n",
       "count  77978.000000  77086.000000  76468.000000             79159.0   \n",
       "mean     169.565316     85.114552     29.600786                 0.0   \n",
       "std       10.835017     25.465505      8.487987                 0.0   \n",
       "min      137.200000     38.600000     14.844926                 0.0   \n",
       "25%      162.500000     67.700000     23.875433                 0.0   \n",
       "50%      170.000000     81.600000     28.029903                 0.0   \n",
       "75%      177.800000     98.400000     33.420162                 0.0   \n",
       "max      195.590000    186.000000     67.814990                 0.0   \n",
       "\n",
       "        h1_temp_max   h1_temp_min  ...    map_apache          aids  \\\n",
       "count  61223.000000  61223.000000  ...  78931.000000  79159.000000   \n",
       "mean      36.721315     36.612966  ...     87.278128      0.000834   \n",
       "std        0.771686      0.795767  ...     42.058748      0.028863   \n",
       "min       33.400000     32.900000  ...     40.000000      0.000000   \n",
       "25%       36.400000     36.300000  ...     53.000000      0.000000   \n",
       "50%       36.700000     36.700000  ...     66.000000      0.000000   \n",
       "75%       37.100000     37.000000  ...    124.000000      0.000000   \n",
       "max       39.500000     39.300000  ...    200.000000      1.000000   \n",
       "\n",
       "          cirrhosis  hepatic_failure  immunosuppression      leukemia  \\\n",
       "count  79159.000000     79159.000000       79159.000000  79159.000000   \n",
       "mean       0.016713         0.013744           0.025379      0.007327   \n",
       "std        0.128195         0.116429           0.157275      0.085284   \n",
       "min        0.000000         0.000000           0.000000      0.000000   \n",
       "25%        0.000000         0.000000           0.000000      0.000000   \n",
       "50%        0.000000         0.000000           0.000000      0.000000   \n",
       "75%        0.000000         0.000000           0.000000      0.000000   \n",
       "max        1.000000         1.000000           1.000000      1.000000   \n",
       "\n",
       "           lymphoma  solid_tumor_with_metastasis  ventilated_apache  \\\n",
       "count  79159.000000                 79159.000000       79159.000000   \n",
       "mean       0.004080                     0.020781           0.332243   \n",
       "std        0.063748                     0.142651           0.471020   \n",
       "min        0.000000                     0.000000           0.000000   \n",
       "25%        0.000000                     0.000000           0.000000   \n",
       "50%        0.000000                     0.000000           0.000000   \n",
       "75%        0.000000                     0.000000           1.000000   \n",
       "max        1.000000                     1.000000           1.000000   \n",
       "\n",
       "       diabetes_mellitus  \n",
       "count       79159.000000  \n",
       "mean            0.355639  \n",
       "std             0.478709  \n",
       "min             0.000000  \n",
       "25%             0.000000  \n",
       "50%             0.000000  \n",
       "75%             1.000000  \n",
       "max             1.000000  \n",
       "\n",
       "[8 rows x 85 columns]"
      ]
     },
     "execution_count": 6,
     "metadata": {},
     "output_type": "execute_result"
    }
   ],
   "source": [
    "data.describe()"
   ]
  },
  {
   "cell_type": "code",
   "execution_count": 7,
   "metadata": {},
   "outputs": [
    {
     "name": "stdout",
     "output_type": "stream",
     "text": [
      "<class 'pandas.core.frame.DataFrame'>\n",
      "RangeIndex: 79159 entries, 0 to 79158\n",
      "Data columns (total 88 columns):\n",
      " #   Column                       Non-Null Count  Dtype  \n",
      "---  ------                       --------------  -----  \n",
      " 0   encounter_id                 79159 non-null  int64  \n",
      " 1   hospital_id                  79159 non-null  int64  \n",
      " 2   gender                       79129 non-null  object \n",
      " 3   ethnicity                    78198 non-null  object \n",
      " 4   age                          76317 non-null  float64\n",
      " 5   elective_surgery             79159 non-null  int64  \n",
      " 6   height                       77978 non-null  float64\n",
      " 7   weight                       77086 non-null  float64\n",
      " 8   bmi                          76468 non-null  float64\n",
      " 9   readmission_status           79159 non-null  int64  \n",
      " 10  icu_type                     79159 non-null  object \n",
      " 11  h1_temp_max                  61223 non-null  float64\n",
      " 12  h1_temp_min                  61223 non-null  float64\n",
      " 13  d1_albumin_max               36066 non-null  float64\n",
      " 14  d1_albumin_min               36066 non-null  float64\n",
      " 15  d1_bilirubin_max             32682 non-null  float64\n",
      " 16  d1_bilirubin_min             32682 non-null  float64\n",
      " 17  d1_bun_max                   71249 non-null  float64\n",
      " 18  d1_bun_min                   71249 non-null  float64\n",
      " 19  d1_glucose_min               74800 non-null  float64\n",
      " 20  d1_hco3_max                  67258 non-null  float64\n",
      " 21  d1_hco3_min                  67258 non-null  float64\n",
      " 22  d1_inr_max                   29693 non-null  float64\n",
      " 23  d1_inr_min                   29693 non-null  float64\n",
      " 24  d1_lactate_max               21350 non-null  float64\n",
      " 25  d1_lactate_min               21350 non-null  float64\n",
      " 26  d1_platelets_max             67993 non-null  float64\n",
      " 27  d1_platelets_min             67993 non-null  float64\n",
      " 28  d1_potassium_max             71972 non-null  float64\n",
      " 29  d1_potassium_min             71972 non-null  float64\n",
      " 30  d1_sodium_max                71544 non-null  float64\n",
      " 31  d1_sodium_min                71544 non-null  float64\n",
      " 32  d1_wbc_max                   68680 non-null  float64\n",
      " 33  d1_wbc_min                   68680 non-null  float64\n",
      " 34  h1_albumin_max               6888 non-null   float64\n",
      " 35  h1_albumin_min               6888 non-null   float64\n",
      " 36  h1_bilirubin_max             6310 non-null   float64\n",
      " 37  h1_bilirubin_min             6310 non-null   float64\n",
      " 38  h1_bun_max                   15753 non-null  float64\n",
      " 39  h1_bun_min                   15753 non-null  float64\n",
      " 40  h1_calcium_max               15196 non-null  float64\n",
      " 41  h1_calcium_min               15196 non-null  float64\n",
      " 42  h1_creatinine_max            15884 non-null  float64\n",
      " 43  h1_creatinine_min            15884 non-null  float64\n",
      " 44  h1_glucose_max               35387 non-null  float64\n",
      " 45  h1_glucose_min               35387 non-null  float64\n",
      " 46  h1_hco3_max                  14808 non-null  float64\n",
      " 47  h1_hco3_min                  14808 non-null  float64\n",
      " 48  h1_hematocrit_max            16616 non-null  float64\n",
      " 49  h1_hematocrit_min            16616 non-null  float64\n",
      " 50  h1_inr_max                   29693 non-null  float64\n",
      " 51  h1_inr_min                   29693 non-null  float64\n",
      " 52  h1_lactate_max               7174 non-null   float64\n",
      " 53  h1_lactate_min               7174 non-null   float64\n",
      " 54  h1_sodium_max                17763 non-null  float64\n",
      " 55  h1_sodium_min                17763 non-null  float64\n",
      " 56  d1_arterial_po2_max          28333 non-null  float64\n",
      " 57  d1_arterial_po2_min          28333 non-null  float64\n",
      " 58  d1_pao2fio2ratio_max         22583 non-null  float64\n",
      " 59  d1_pao2fio2ratio_min         22583 non-null  float64\n",
      " 60  h1_arterial_pco2_max         13872 non-null  float64\n",
      " 61  h1_arterial_pco2_min         13872 non-null  float64\n",
      " 62  h1_arterial_ph_max           13770 non-null  float64\n",
      " 63  h1_arterial_ph_min           13770 non-null  float64\n",
      " 64  h1_arterial_po2_max          14017 non-null  float64\n",
      " 65  h1_arterial_po2_min          14017 non-null  float64\n",
      " 66  h1_pao2fio2ratio_max         10343 non-null  float64\n",
      " 67  h1_pao2fio2ratio_min         10343 non-null  float64\n",
      " 68  wbc_apache                   61408 non-null  float64\n",
      " 69  intubated_apache             79159 non-null  int64  \n",
      " 70  d1_heartrate_max             79014 non-null  float64\n",
      " 71  heart_rate_apache            79003 non-null  float64\n",
      " 72  gcs_motor_apache             77935 non-null  float64\n",
      " 73  gcs_eyes_apache              77935 non-null  float64\n",
      " 74  creatinine_apache            64575 non-null  float64\n",
      " 75  bilirubin_apache             29109 non-null  float64\n",
      " 76  h1_spo2_max                  75355 non-null  float64\n",
      " 77  paco2_apache                 18540 non-null  float64\n",
      " 78  map_apache                   78931 non-null  float64\n",
      " 79  aids                         79159 non-null  int64  \n",
      " 80  cirrhosis                    79159 non-null  int64  \n",
      " 81  hepatic_failure              79159 non-null  int64  \n",
      " 82  immunosuppression            79159 non-null  int64  \n",
      " 83  leukemia                     79159 non-null  int64  \n",
      " 84  lymphoma                     79159 non-null  int64  \n",
      " 85  solid_tumor_with_metastasis  79159 non-null  int64  \n",
      " 86  ventilated_apache            79159 non-null  int64  \n",
      " 87  diabetes_mellitus            79159 non-null  int64  \n",
      "dtypes: float64(71), int64(14), object(3)\n",
      "memory usage: 53.1+ MB\n"
     ]
    }
   ],
   "source": [
    "data.info()"
   ]
  },
  {
   "cell_type": "code",
   "execution_count": 8,
   "metadata": {},
   "outputs": [],
   "source": [
    "# drop the two ID columns\n",
    "data.drop(labels=['encounter_id', 'hospital_id'], axis=1, inplace=True)"
   ]
  },
  {
   "cell_type": "code",
   "execution_count": 9,
   "metadata": {},
   "outputs": [
    {
     "data": {
      "text/plain": [
       "h1_bilirubin_max        72849\n",
       "h1_bilirubin_min        72849\n",
       "h1_albumin_max          72271\n",
       "h1_albumin_min          72271\n",
       "h1_lactate_min          71985\n",
       "h1_lactate_max          71985\n",
       "h1_pao2fio2ratio_max    68816\n",
       "h1_pao2fio2ratio_min    68816\n",
       "h1_arterial_ph_min      65389\n",
       "h1_arterial_ph_max      65389\n",
       "h1_arterial_pco2_min    65287\n",
       "h1_arterial_pco2_max    65287\n",
       "h1_arterial_po2_max     65142\n",
       "h1_arterial_po2_min     65142\n",
       "h1_hco3_max             64351\n",
       "h1_hco3_min             64351\n",
       "h1_calcium_max          63963\n",
       "h1_calcium_min          63963\n",
       "h1_bun_max              63406\n",
       "h1_bun_min              63406\n",
       "h1_creatinine_min       63275\n",
       "h1_creatinine_max       63275\n",
       "h1_hematocrit_min       62543\n",
       "h1_hematocrit_max       62543\n",
       "h1_sodium_min           61396\n",
       "h1_sodium_max           61396\n",
       "paco2_apache            60619\n",
       "d1_lactate_min          57809\n",
       "d1_lactate_max          57809\n",
       "d1_pao2fio2ratio_min    56576\n",
       "d1_pao2fio2ratio_max    56576\n",
       "d1_arterial_po2_min     50826\n",
       "d1_arterial_po2_max     50826\n",
       "bilirubin_apache        50050\n",
       "h1_inr_min              49466\n",
       "d1_inr_min              49466\n",
       "d1_inr_max              49466\n",
       "h1_inr_max              49466\n",
       "d1_bilirubin_min        46477\n",
       "d1_bilirubin_max        46477\n",
       "h1_glucose_min          43772\n",
       "h1_glucose_max          43772\n",
       "d1_albumin_max          43093\n",
       "d1_albumin_min          43093\n",
       "dtype: int64"
      ]
     },
     "execution_count": 9,
     "metadata": {},
     "output_type": "execute_result"
    }
   ],
   "source": [
    "data.isnull().sum().sort_values(ascending=False).head(44)"
   ]
  },
  {
   "cell_type": "code",
   "execution_count": 10,
   "metadata": {},
   "outputs": [],
   "source": [
    "num_of_columns_to_drop = 44\n",
    "columns_to_drop_1 = list(data.isnull().sum().sort_values(ascending=False).head(num_of_columns_to_drop).index.values)"
   ]
  },
  {
   "cell_type": "code",
   "execution_count": 11,
   "metadata": {},
   "outputs": [],
   "source": [
    "data.drop(labels=columns_to_drop_1, axis=1, inplace=True)"
   ]
  },
  {
   "cell_type": "code",
   "execution_count": 12,
   "metadata": {},
   "outputs": [
    {
     "data": {
      "text/plain": [
       "(79159, 42)"
      ]
     },
     "execution_count": 12,
     "metadata": {},
     "output_type": "execute_result"
    }
   ],
   "source": [
    "data.shape"
   ]
  },
  {
   "cell_type": "code",
   "execution_count": 13,
   "metadata": {},
   "outputs": [],
   "source": [
    "data.dropna(inplace=True)"
   ]
  },
  {
   "cell_type": "code",
   "execution_count": 14,
   "metadata": {},
   "outputs": [
    {
     "data": {
      "text/plain": [
       "(38582, 42)"
      ]
     },
     "execution_count": 14,
     "metadata": {},
     "output_type": "execute_result"
    }
   ],
   "source": [
    "data.shape"
   ]
  },
  {
   "cell_type": "code",
   "execution_count": 15,
   "metadata": {},
   "outputs": [
    {
     "data": {
      "text/plain": [
       "<AxesSubplot:title={'center':'Target distribution'}>"
      ]
     },
     "execution_count": 15,
     "metadata": {},
     "output_type": "execute_result"
    },
    {
     "data": {
      "image/png": "[encoded data removed]",
      "text/plain": [
       "<Figure size 432x288 with 1 Axes>"
      ]
     },
     "metadata": {
      "image/png": {
       "height": 260,
       "width": 388
      },
      "needs_background": "light"
     },
     "output_type": "display_data"
    }
   ],
   "source": [
    "data['diabetes_mellitus'].value_counts().plot(kind='bar', title='Target distribution')"
   ]
  },
  {
   "cell_type": "code",
   "execution_count": 16,
   "metadata": {},
   "outputs": [
    {
     "data": {
      "image/png": "[encoded data removed]",
      "text/plain": [
       "<Figure size 1080x288 with 3 Axes>"
      ]
     },
     "metadata": {
      "image/png": {
       "height": 296,
       "width": 1088
      },
      "needs_background": "light"
     },
     "output_type": "display_data"
    }
   ],
   "source": [
    "vs.visualize_crosstabs(data[['gender', 'ethnicity', 'icu_type', 'diabetes_mellitus']], \n",
    "                       ['gender', 'ethnicity', 'icu_type'],\n",
    "                       'diabetes_mellitus')"
   ]
  },
  {
   "cell_type": "code",
   "execution_count": null,
   "metadata": {},
   "outputs": [],
   "source": [
    "data.isnull().sum().sum()"
   ]
  },
  {
   "cell_type": "code",
   "execution_count": null,
   "metadata": {},
   "outputs": [],
   "source": [
    "features_raw = data.iloc[:, :-1]\n",
    "target = data.iloc[:, -1]"
   ]
  },
  {
   "cell_type": "code",
   "execution_count": null,
   "metadata": {},
   "outputs": [],
   "source": [
    "numeric_features_list = dp.get_float_features(features_raw)\n",
    "numeric_features_list"
   ]
  },
  {
   "cell_type": "code",
   "execution_count": null,
   "metadata": {},
   "outputs": [],
   "source": [
    "features_raw[numeric_features_list].corr()\n",
    "features_raw[numeric_features_list].corr().unstack()\n",
    "\n",
    "vs.plot_correlation_matrix(features_raw[numeric_features_list], figsize=(20, 16), threshold=-1)"
   ]
  },
  {
   "cell_type": "code",
   "execution_count": null,
   "metadata": {},
   "outputs": [],
   "source": [
    "numeric_features_pure_df = dp.remove_highly_correlated_features(features_raw[numeric_features_list], threshold = 0.8)\n",
    "\n",
    "features_raw.drop(labels=numeric_features_list, axis=1, inplace=True)\n",
    "\n",
    "features_pure = pd.concat([features_raw, numeric_features_pure_df], axis=1)\n",
    "\n",
    "features_pure.shape"
   ]
  },
  {
   "cell_type": "code",
   "execution_count": null,
   "metadata": {},
   "outputs": [],
   "source": [
    "categorical_features_list = dp.get_categorical_features(features_pure)\n",
    "categorical_features_list"
   ]
  },
  {
   "cell_type": "code",
   "execution_count": null,
   "metadata": {},
   "outputs": [],
   "source": [
    "binary_features = dp.get_binary_features(features_pure)\n",
    "binary_features"
   ]
  },
  {
   "cell_type": "code",
   "execution_count": null,
   "metadata": {},
   "outputs": [],
   "source": [
    "integer_features_list = dp.get_integer_features(features_pure)\n",
    "integer_features_list"
   ]
  },
  {
   "cell_type": "code",
   "execution_count": null,
   "metadata": {},
   "outputs": [],
   "source": [
    "encoded_cat_features = pd.get_dummies(features_pure[categorical_features_list])\n",
    "encoded_cat_features"
   ]
  },
  {
   "cell_type": "code",
   "execution_count": null,
   "metadata": {},
   "outputs": [],
   "source": [
    "features_encoded = pd.concat([features_pure, encoded_cat_features], axis=1)"
   ]
  },
  {
   "cell_type": "code",
   "execution_count": null,
   "metadata": {},
   "outputs": [],
   "source": [
    "features_encoded.drop(categorical_features_list, axis=1, inplace=True)"
   ]
  },
  {
   "cell_type": "code",
   "execution_count": null,
   "metadata": {},
   "outputs": [],
   "source": [
    "features_encoded.shape"
   ]
  },
  {
   "cell_type": "code",
   "execution_count": null,
   "metadata": {},
   "outputs": [],
   "source": [
    "from sklearn.feature_selection import SelectKBest, f_classif\n",
    "\n",
    "kbest = SelectKBest(f_classif, k=20)\n",
    "\n",
    "X_new = kbest.fit_transform(features_encoded, target)\n",
    "X_new.shape\n"
   ]
  },
  {
   "cell_type": "code",
   "execution_count": null,
   "metadata": {},
   "outputs": [],
   "source": [
    "print(kbest.get_feature_names_out())"
   ]
  },
  {
   "cell_type": "code",
   "execution_count": null,
   "metadata": {},
   "outputs": [],
   "source": [
    "features_best = pd.DataFrame(X_new, columns = kbest.get_feature_names_out())\n",
    "features_best.shape"
   ]
  },
  {
   "cell_type": "code",
   "execution_count": null,
   "metadata": {},
   "outputs": [],
   "source": [
    "target.shape"
   ]
  },
  {
   "cell_type": "code",
   "execution_count": null,
   "metadata": {},
   "outputs": [],
   "source": [
    "from sklearn.tree import DecisionTreeClassifier\n",
    "\n",
    "dtc = DecisionTreeClassifier(random_state=0, criterion='entropy')\n",
    "\n",
    "dtc.fit(features_encoded, target)\n",
    "\n",
    "# TODO: Extract the feature importances using .feature_importances_ \n",
    "importances = dtc.feature_importances_\n",
    "\n",
    "# Plot\n",
    "vs.plot_feature_importance(features_encoded.columns, importances, (8, 12))"
   ]
  },
  {
   "cell_type": "code",
   "execution_count": null,
   "metadata": {},
   "outputs": [],
   "source": [
    "from sklearn.model_selection import train_test_split\n",
    "X_train, X_test, y_train, y_test = train_test_split(features_encoded, \n",
    "                                                    target, \n",
    "                                                    test_size=0.2, \n",
    "                                                    random_state=0,\n",
    "                                                    stratify=target)"
   ]
  },
  {
   "cell_type": "code",
   "execution_count": null,
   "metadata": {},
   "outputs": [],
   "source": [
    "import classification_modeling as cm\n",
    "\n",
    "cm.set_beta_f_score(1)\n",
    "\n",
    "naive_accuracy, naive_precision, naive_recall, naive_fscore = cm.calculate_naive_evaluation_mertics(target)"
   ]
  },
  {
   "cell_type": "code",
   "execution_count": null,
   "metadata": {},
   "outputs": [],
   "source": [
    "# TODO: Import the three supervised learning models from sklearn\n",
    "\n",
    "from sklearn.ensemble import GradientBoostingClassifier\n",
    "from sklearn.ensemble import AdaBoostClassifier, BaggingClassifier\n",
    "from sklearn.ensemble import ExtraTreesClassifier\n",
    "from sklearn.ensemble import RandomForestClassifier\n",
    "\n",
    "from sklearn.tree import DecisionTreeClassifier\n",
    "\n",
    "from sklearn.linear_model import SGDClassifier\n",
    "from sklearn.linear_model import RidgeClassifier\n",
    "from sklearn.linear_model import LogisticRegression\n",
    "from sklearn.linear_model import Perceptron\n",
    "\n",
    "from sklearn.naive_bayes import GaussianNB\n",
    "\n",
    "from sklearn.svm import SVC\n",
    "\n",
    "# # TODO: Initialize the three models\n",
    "clf_A = GradientBoostingClassifier(random_state=0)\n",
    "clf_B = DecisionTreeClassifier(random_state=0)\n",
    "clf_C = RandomForestClassifier(random_state=0)\n",
    "\n",
    "models = [clf_A, clf_B, clf_C]\n",
    "\n",
    "cm.train_and_compare_models(models, X_train, y_train, X_test, y_test, naive_accuracy, naive_fscore)"
   ]
  },
  {
   "cell_type": "code",
   "execution_count": null,
   "metadata": {},
   "outputs": [],
   "source": [
    "# TODO: Initialize the best unoptimized classifier\n",
    "clf = GradientBoostingClassifier(random_state=0)\n",
    "\n",
    "# TODO: Create the parameters list you wish to tune, using a dictionary if needed.\n",
    "# HINT: parameters = {'parameter_1': [value1, value2], 'parameter_2': [value1, value2]}\n",
    "\n",
    "# Hyperparameters for GradientBoostingClassifier\n",
    "parameters = {\n",
    "        #'learning_rate': [0.001, 0.01, 0.1, 1, 10],\n",
    "        'n_estimators': [50, 100, 200, 300, 400, 500],\n",
    "        #\"max_depth\": [2, 3, 4, 5, 6, 7, 8, 9, 10],\n",
    "        #'max_features': ['auto', 'sqrt', 'log2'],\n",
    "    }\n",
    "\n",
    "# Create scorer object for optimization\n",
    "from sklearn.metrics import accuracy_score, fbeta_score\n",
    "from sklearn.metrics import make_scorer\n",
    "scorer = make_scorer(accuracy_score)\n",
    "\n",
    "# optimize the classifier\n",
    "grid_obj = cm.optimize_model(clf, parameters, X_train, y_train, X_test, y_test, scorer=scorer)\n",
    "\n",
    "best_clf = grid_obj.best_estimator_\n",
    "\n",
    "best_clf"
   ]
  },
  {
   "cell_type": "code",
   "execution_count": null,
   "metadata": {},
   "outputs": [],
   "source": []
  }
 ],
 "metadata": {
  "interpreter": {
   "hash": "4b95e594f19d774e6652a10f889ec6294281d07b2ee52bc69e4c2618cc65953d"
  },
  "kernelspec": {
   "display_name": "Python 3.8.5 ('python38')",
   "language": "python",
   "name": "python3"
  },
  "language_info": {
   "codemirror_mode": {
    "name": "ipython",
    "version": 3
   },
   "file_extension": ".py",
   "mimetype": "text/x-python",
   "name": "python",
   "nbconvert_exporter": "python",
   "pygments_lexer": "ipython3",
   "version": "3.8.5"
  },
  "orig_nbformat": 4
 },
 "nbformat": 4,
 "nbformat_minor": 2
}
